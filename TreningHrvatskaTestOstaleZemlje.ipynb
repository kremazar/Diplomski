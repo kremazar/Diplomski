{
 "cells": [
  {
   "cell_type": "code",
   "execution_count": 6,
   "id": "3cc05ae8",
   "metadata": {},
   "outputs": [],
   "source": [
    "from zipfile import ZipFile\n",
    "# Create a ZipFile Object and load sample.zip in it\n",
    "with ZipFile('TrainingSamoCro.zip', 'r') as zipObj:\n",
    "   # Extract all the contents of zip file in current directory\n",
    "   zipObj.extractall()"
   ]
  },
  {
   "cell_type": "code",
   "execution_count": 7,
   "id": "2a74b08c",
   "metadata": {},
   "outputs": [
    {
     "name": "stdout",
     "output_type": "stream",
     "text": [
      "Found 1512 images belonging to 8 classes.\n"
     ]
    }
   ],
   "source": [
    "import os\n",
    "os.environ[\"CUDA_VISIBLE_DEVICES\"]=\"-1\" # staviti -1 za CPU\n",
    "os.environ['TF_FORCE_GPU_ALLOW_GROWTH'] = 'true'\n",
    "\n",
    "# import the needed libraries\n",
    "import numpy as np\n",
    "import tensorflow as tf\n",
    "from tensorflow.keras.models import Sequential\n",
    "from tensorflow.keras.layers import Dense, Conv2D, MaxPool2D, Flatten, Activation\n",
    "from tensorflow.keras import backend as K\n",
    "from tensorflow.keras.preprocessing.image import ImageDataGenerator\n",
    "\n",
    "# config\n",
    "img_width, img_height = 28,28 #width & height of input image\n",
    "input_depth = 1 #1: gray image\n",
    "\n",
    "train_data_dir = 'TrainingSamoCro' #data training path\n",
    "\n",
    "epochs = 20 #number of training epoch\n",
    "batch_size = 10 #training batch size\n",
    "\n",
    "\n",
    "list=[]\n",
    "import os, shutil\n",
    "for item in os.listdir(train_data_dir):\n",
    "    s = os.path.join(train_data_dir, item)\n",
    "    list.append(item)\n",
    "\n",
    "\n",
    "# define image generator for Keras,\n",
    "# here, we map pixel intensity to 0-1\n",
    "train_datagen = ImageDataGenerator(rescale=1/255)\n",
    "\n",
    "\n",
    "# read image batch by batch\n",
    "train_generator = train_datagen.flow_from_directory(\n",
    "    train_data_dir,\n",
    "    color_mode='grayscale',#inpput iameg: gray\n",
    "    target_size=(img_width,img_height),#input image size\n",
    "    batch_size=batch_size,#batch size\n",
    "    class_mode='categorical')#categorical: one-hot encoding format class label"
   ]
  },
  {
   "cell_type": "code",
   "execution_count": 37,
   "id": "3bd5dc1c",
   "metadata": {},
   "outputs": [
    {
     "name": "stdout",
     "output_type": "stream",
     "text": [
      "Found 498 images belonging to 8 classes.\n"
     ]
    }
   ],
   "source": [
    "#testing_data_dir = 'Test/TestGer' #data testing path\n",
    "#testing_data_dir = 'Test/TestCro' #data testing path\n",
    "#testing_data_dir = 'Test/TestFra' #data testing path\n",
    "#testing_data_dir = 'Test/TestBel' #data testing path\n",
    "testing_data_dir = 'Test/TestSwe' #data testing path\n",
    "\n",
    "test_datagen = ImageDataGenerator(rescale=1/255)\n",
    "\n",
    "\n",
    "testing_generator = test_datagen.flow_from_directory(\n",
    "    testing_data_dir,\n",
    "    color_mode='grayscale',\n",
    "    target_size=(img_width,img_height),\n",
    "    batch_size=batch_size,\n",
    "    class_mode='categorical')"
   ]
  },
  {
   "cell_type": "code",
   "execution_count": 38,
   "id": "7df92db5",
   "metadata": {},
   "outputs": [
    {
     "name": "stdout",
     "output_type": "stream",
     "text": [
      "Model: \"sequential_5\"\n",
      "_________________________________________________________________\n",
      " Layer (type)                Output Shape              Param #   \n",
      "=================================================================\n",
      " conv2d_30 (Conv2D)          (None, 28, 28, 32)        320       \n",
      "                                                                 \n",
      " activation_35 (Activation)  (None, 28, 28, 32)        0         \n",
      "                                                                 \n",
      " conv2d_31 (Conv2D)          (None, 28, 28, 32)        9248      \n",
      "                                                                 \n",
      " activation_36 (Activation)  (None, 28, 28, 32)        0         \n",
      "                                                                 \n",
      " batch_normalization_15 (Bat  (None, 28, 28, 32)       128       \n",
      " chNormalization)                                                \n",
      "                                                                 \n",
      " max_pooling2d_15 (MaxPoolin  (None, 14, 14, 32)       0         \n",
      " g2D)                                                            \n",
      "                                                                 \n",
      " conv2d_32 (Conv2D)          (None, 14, 14, 64)        18496     \n",
      "                                                                 \n",
      " activation_37 (Activation)  (None, 14, 14, 64)        0         \n",
      "                                                                 \n",
      " conv2d_33 (Conv2D)          (None, 14, 14, 64)        36928     \n",
      "                                                                 \n",
      " activation_38 (Activation)  (None, 14, 14, 64)        0         \n",
      "                                                                 \n",
      " batch_normalization_16 (Bat  (None, 14, 14, 64)       256       \n",
      " chNormalization)                                                \n",
      "                                                                 \n",
      " max_pooling2d_16 (MaxPoolin  (None, 7, 7, 64)         0         \n",
      " g2D)                                                            \n",
      "                                                                 \n",
      " conv2d_34 (Conv2D)          (None, 7, 7, 128)         73856     \n",
      "                                                                 \n",
      " activation_39 (Activation)  (None, 7, 7, 128)         0         \n",
      "                                                                 \n",
      " conv2d_35 (Conv2D)          (None, 7, 7, 128)         147584    \n",
      "                                                                 \n",
      " activation_40 (Activation)  (None, 7, 7, 128)         0         \n",
      "                                                                 \n",
      " batch_normalization_17 (Bat  (None, 7, 7, 128)        512       \n",
      " chNormalization)                                                \n",
      "                                                                 \n",
      " max_pooling2d_17 (MaxPoolin  (None, 3, 3, 128)        0         \n",
      " g2D)                                                            \n",
      "                                                                 \n",
      " flatten_5 (Flatten)         (None, 1152)              0         \n",
      "                                                                 \n",
      " dense_10 (Dense)            (None, 256)               295168    \n",
      "                                                                 \n",
      " activation_41 (Activation)  (None, 256)               0         \n",
      "                                                                 \n",
      " dense_11 (Dense)            (None, 8)                 2056      \n",
      "                                                                 \n",
      "=================================================================\n",
      "Total params: 584,552\n",
      "Trainable params: 584,104\n",
      "Non-trainable params: 448\n",
      "_________________________________________________________________\n"
     ]
    }
   ],
   "source": [
    "from tensorflow.keras.models import Sequential\n",
    "from tensorflow.keras.layers import Conv2D, MaxPool2D, Flatten, Dense, Activation, BatchNormalization\n",
    "from tensorflow.keras.optimizers import Adam\n",
    "\n",
    "# Define number of filters and nodes in the fully connected layer\n",
    "NUMB_FILTER_L1 = 32\n",
    "NUMB_FILTER_L2 = 64\n",
    "NUMB_FILTER_L3 = 128\n",
    "NUMB_NODE_FC_LAYER = 256\n",
    "\n",
    "# Define input image order shape\n",
    "input_shape_val = (img_width, img_height, input_depth)\n",
    "\n",
    "# Define the network\n",
    "model = Sequential()\n",
    "\n",
    "# Layer 1\n",
    "model.add(Conv2D(NUMB_FILTER_L1, (3, 3), input_shape=input_shape_val, padding='same'))\n",
    "model.add(Activation('relu'))\n",
    "model.add(Conv2D(NUMB_FILTER_L1, (3, 3), padding='same'))\n",
    "model.add(Activation('relu'))\n",
    "model.add(BatchNormalization())\n",
    "\n",
    "# Layer 2\n",
    "model.add(MaxPool2D((2, 2)))\n",
    "\n",
    "# Layer 3\n",
    "model.add(Conv2D(NUMB_FILTER_L2, (3, 3), padding='same'))\n",
    "model.add(Activation('relu'))\n",
    "model.add(Conv2D(NUMB_FILTER_L2, (3, 3), padding='same'))\n",
    "model.add(Activation('relu'))\n",
    "model.add(BatchNormalization())\n",
    "\n",
    "# Layer 4\n",
    "model.add(MaxPool2D((2, 2)))\n",
    "\n",
    "# Layer 5\n",
    "model.add(Conv2D(NUMB_FILTER_L3, (3, 3), padding='same'))\n",
    "model.add(Activation('relu'))\n",
    "model.add(Conv2D(NUMB_FILTER_L3, (3, 3), padding='same'))\n",
    "model.add(Activation('relu'))\n",
    "model.add(BatchNormalization())\n",
    "\n",
    "# Layer 6\n",
    "model.add(MaxPool2D((2, 2)))\n",
    "\n",
    "# Flattening the model for fully connected layer\n",
    "model.add(Flatten())\n",
    "\n",
    "# Fully connected layer\n",
    "model.add(Dense(NUMB_NODE_FC_LAYER))\n",
    "model.add(Activation('relu'))\n",
    "\n",
    "# Output layer\n",
    "model.add(Dense(train_generator.num_classes, activation='softmax'))\n",
    "\n",
    "# Define the optimizer\n",
    "optimizer = Adam(learning_rate=1e-3)\n",
    "\n",
    "# Compile the network\n",
    "model.compile(loss='categorical_crossentropy', optimizer=optimizer, metrics=['accuracy'])\n",
    "\n",
    "# Show the model summary\n",
    "model.summary()\n"
   ]
  },
  {
   "cell_type": "code",
   "execution_count": 12,
   "id": "4e7b76fb",
   "metadata": {},
   "outputs": [
    {
     "name": "stdout",
     "output_type": "stream",
     "text": [
      "Epoch 1/10\n",
      "  7/152 [>.............................] - ETA: 2s - loss: 4.9723e-04 - accuracy: 1.0000"
     ]
    },
    {
     "name": "stderr",
     "output_type": "stream",
     "text": [
      "/tmp/ipykernel_1638184/1551426499.py:3: UserWarning: `Model.fit_generator` is deprecated and will be removed in a future version. Please use `Model.fit`, which supports generators.\n",
      "  CroCro = model.fit_generator(\n"
     ]
    },
    {
     "name": "stdout",
     "output_type": "stream",
     "text": [
      "152/152 [==============================] - 3s 19ms/step - loss: 0.0051 - accuracy: 0.9987 - val_loss: 0.0134 - val_accuracy: 0.9968\n",
      "Epoch 2/10\n",
      "152/152 [==============================] - 3s 20ms/step - loss: 2.2656e-04 - accuracy: 1.0000 - val_loss: 0.0118 - val_accuracy: 0.9968\n",
      "Epoch 3/10\n",
      "152/152 [==============================] - 3s 19ms/step - loss: 1.2064e-04 - accuracy: 1.0000 - val_loss: 0.0137 - val_accuracy: 0.9968\n",
      "Epoch 4/10\n",
      "152/152 [==============================] - 3s 20ms/step - loss: 3.1587e-05 - accuracy: 1.0000 - val_loss: 0.0138 - val_accuracy: 0.9952\n",
      "Epoch 5/10\n",
      "152/152 [==============================] - 3s 20ms/step - loss: 3.5076e-05 - accuracy: 1.0000 - val_loss: 0.0111 - val_accuracy: 0.9968\n",
      "Epoch 6/10\n",
      "152/152 [==============================] - 3s 19ms/step - loss: 1.9127e-05 - accuracy: 1.0000 - val_loss: 0.0112 - val_accuracy: 0.9968\n",
      "Epoch 7/10\n",
      "152/152 [==============================] - 3s 19ms/step - loss: 2.0138e-05 - accuracy: 1.0000 - val_loss: 0.0120 - val_accuracy: 0.9952\n",
      "Epoch 8/10\n",
      "152/152 [==============================] - 3s 20ms/step - loss: 2.2511e-05 - accuracy: 1.0000 - val_loss: 0.0120 - val_accuracy: 0.9968\n",
      "Epoch 9/10\n",
      "152/152 [==============================] - 3s 21ms/step - loss: 1.3814e-05 - accuracy: 1.0000 - val_loss: 0.0116 - val_accuracy: 0.9968\n",
      "Epoch 10/10\n",
      "152/152 [==============================] - 3s 20ms/step - loss: 1.8251e-05 - accuracy: 1.0000 - val_loss: 0.0108 - val_accuracy: 0.9968\n"
     ]
    }
   ],
   "source": [
    "#Cro + Cro\n",
    "import matplotlib.pyplot as plt\n",
    "CroCro = model.fit_generator(\n",
    "    train_generator,#our training generator\n",
    "    #number of iteration per epoch = number of data / batch size\n",
    "    #steps_per_epoch=np.floor(train_generator.n/batch_size),\n",
    "    epochs=10,#number of epoch\n",
    "    validation_data=testing_generator,#our validation generator\n",
    "    #number of iteration per epoch = number of data / batch size\n",
    "    validation_steps=np.floor(testing_generator.n / batch_size)\n",
    "    )"
   ]
  },
  {
   "cell_type": "code",
   "execution_count": 13,
   "id": "091afa63",
   "metadata": {},
   "outputs": [
    {
     "name": "stdout",
     "output_type": "stream",
     "text": [
      "val:  0.9968253970146179\n",
      "64/64 [==============================] - 0s 6ms/step - loss: 0.0108 - accuracy: 0.9968\n",
      "Test Loss: 0.01075782347470522\n",
      "Test Accuracy: 0.9968454241752625\n"
     ]
    }
   ],
   "source": [
    "best_val_accuracy_Cro = max(CroCro.history['val_accuracy'])\n",
    "print('val: ', best_val_accuracy_Cro)\n",
    "\n",
    "\n",
    "test_loss_cro, test_accuracy_cro = model.evaluate(testing_generator, steps=np.ceil(testing_generator.n / batch_size))\n",
    "\n",
    "print(\"Test Loss:\", test_loss_cro)\n",
    "print(\"Test Accuracy:\", test_accuracy_cro)"
   ]
  },
  {
   "cell_type": "code",
   "execution_count": 14,
   "id": "f52a7ad4",
   "metadata": {},
   "outputs": [
    {
     "name": "stdout",
     "output_type": "stream",
     "text": [
      "dict_keys(['loss', 'accuracy', 'val_loss', 'val_accuracy'])\n"
     ]
    },
    {
     "data": {
      "image/png": "[encoded data removed]",
      "text/plain": [
       "<Figure size 432x288 with 1 Axes>"
      ]
     },
     "metadata": {
      "needs_background": "light"
     },
     "output_type": "display_data"
    },
    {
     "data": {
      "image/png": "[encoded data removed]",
      "text/plain": [
       "<Figure size 432x288 with 1 Axes>"
      ]
     },
     "metadata": {
      "needs_background": "light"
     },
     "output_type": "display_data"
    }
   ],
   "source": [
    "#Cro + Cro\n",
    "# list all data in history\n",
    "print(CroCro.history.keys())\n",
    "# summarize history for accuracy\n",
    "plt.plot(CroCro.history['accuracy'])\n",
    "plt.plot(CroCro.history['val_accuracy'])\n",
    "plt.title('model accuracy')\n",
    "plt.ylabel('accuracy')\n",
    "plt.xlabel('epoch')\n",
    "plt.legend(['train', 'test'], loc='upper left')\n",
    "plt.show()\n",
    "# summarize history for loss\n",
    "plt.plot(CroCro.history['loss'])\n",
    "plt.plot(CroCro.history['val_loss'])\n",
    "plt.title('model loss')\n",
    "plt.ylabel('loss')\n",
    "plt.xlabel('epoch')\n",
    "plt.legend(['train', 'test'], loc='upper left')\n",
    "plt.show()"
   ]
  },
  {
   "cell_type": "code",
   "execution_count": 17,
   "id": "3acfdd29",
   "metadata": {},
   "outputs": [
    {
     "name": "stdout",
     "output_type": "stream",
     "text": [
      "Epoch 1/10\n"
     ]
    },
    {
     "name": "stderr",
     "output_type": "stream",
     "text": [
      "/tmp/ipykernel_1638184/3349152075.py:3: UserWarning: `Model.fit_generator` is deprecated and will be removed in a future version. Please use `Model.fit`, which supports generators.\n",
      "  CroGer = model.fit_generator(\n"
     ]
    },
    {
     "name": "stdout",
     "output_type": "stream",
     "text": [
      "152/152 [==============================] - 6s 31ms/step - loss: 0.5416 - accuracy: 0.8519 - val_loss: 2.9415 - val_accuracy: 0.0267\n",
      "Epoch 2/10\n",
      "152/152 [==============================] - 4s 27ms/step - loss: 0.1168 - accuracy: 0.9702 - val_loss: 1.4644 - val_accuracy: 0.4774\n",
      "Epoch 3/10\n",
      "152/152 [==============================] - 5s 34ms/step - loss: 0.0604 - accuracy: 0.9835 - val_loss: 0.5406 - val_accuracy: 0.8640\n",
      "Epoch 4/10\n",
      "152/152 [==============================] - 4s 27ms/step - loss: 0.0275 - accuracy: 0.9894 - val_loss: 0.8050 - val_accuracy: 0.7767\n",
      "Epoch 5/10\n",
      "152/152 [==============================] - 4s 29ms/step - loss: 0.0215 - accuracy: 0.9921 - val_loss: 0.4486 - val_accuracy: 0.8709\n",
      "Epoch 6/10\n",
      "152/152 [==============================] - 4s 28ms/step - loss: 0.0177 - accuracy: 0.9960 - val_loss: 1.1456 - val_accuracy: 0.7808\n",
      "Epoch 7/10\n",
      "152/152 [==============================] - 4s 28ms/step - loss: 0.0723 - accuracy: 0.9868 - val_loss: 2.8715 - val_accuracy: 0.5240\n",
      "Epoch 8/10\n",
      "152/152 [==============================] - 4s 27ms/step - loss: 0.1945 - accuracy: 0.9656 - val_loss: 1.7747 - val_accuracy: 0.6233\n",
      "Epoch 9/10\n",
      "152/152 [==============================] - 4s 26ms/step - loss: 0.0385 - accuracy: 0.9881 - val_loss: 0.8841 - val_accuracy: 0.8021\n",
      "Epoch 10/10\n",
      "152/152 [==============================] - 4s 27ms/step - loss: 0.0013 - accuracy: 1.0000 - val_loss: 0.4094 - val_accuracy: 0.8866\n"
     ]
    }
   ],
   "source": [
    "#Cro + Ger\n",
    "import matplotlib.pyplot as plt\n",
    "CroGer = model.fit_generator(\n",
    "    train_generator,#our training generator\n",
    "    #number of iteration per epoch = number of data / batch size\n",
    "    #steps_per_epoch=np.floor(train_generator.n/batch_size),\n",
    "    epochs=10,#number of epoch\n",
    "    validation_data=testing_generator,#our validation generator\n",
    "    #number of iteration per epoch = number of data / batch size\n",
    "    validation_steps=np.floor(testing_generator.n / batch_size)\n",
    "    )"
   ]
  },
  {
   "cell_type": "code",
   "execution_count": 18,
   "id": "360d1331",
   "metadata": {},
   "outputs": [
    {
     "name": "stdout",
     "output_type": "stream",
     "text": [
      "val:  0.8866438269615173\n",
      "293/293 [==============================] - 2s 6ms/step - loss: 0.4091 - accuracy: 0.8866\n",
      "Test Loss: 0.40913036465644836\n",
      "Test Accuracy: 0.8866119980812073\n"
     ]
    }
   ],
   "source": [
    "best_val_accuracy_Ger = max(CroGer.history['val_accuracy'])\n",
    "print('val: ', best_val_accuracy_Ger)\n",
    "\n",
    "\n",
    "test_loss_ger, test_accuracy_ger = model.evaluate(testing_generator, steps=np.ceil(testing_generator.n / batch_size))\n",
    "\n",
    "print(\"Test Loss:\", test_loss_ger)\n",
    "print(\"Test Accuracy:\", test_accuracy_ger)"
   ]
  },
  {
   "cell_type": "code",
   "execution_count": 19,
   "id": "c8866565",
   "metadata": {},
   "outputs": [
    {
     "name": "stdout",
     "output_type": "stream",
     "text": [
      "dict_keys(['loss', 'accuracy', 'val_loss', 'val_accuracy'])\n"
     ]
    },
    {
     "data": {
      "image/png": "[encoded data removed]",
      "text/plain": [
       "<Figure size 432x288 with 1 Axes>"
      ]
     },
     "metadata": {
      "needs_background": "light"
     },
     "output_type": "display_data"
    },
    {
     "data": {
      "image/png": "[encoded data removed]",
      "text/plain": [
       "<Figure size 432x288 with 1 Axes>"
      ]
     },
     "metadata": {
      "needs_background": "light"
     },
     "output_type": "display_data"
    }
   ],
   "source": [
    "#Cro + Ger\n",
    "# list all data in history\n",
    "print(CroGer.history.keys())\n",
    "# summarize history for accuracy\n",
    "plt.plot(CroGer.history['accuracy'])\n",
    "plt.plot(CroGer.history['val_accuracy'])\n",
    "plt.title('model accuracy')\n",
    "plt.ylabel('accuracy')\n",
    "plt.xlabel('epoch')\n",
    "plt.legend(['train', 'test'], loc='upper left')\n",
    "plt.show()\n",
    "# summarize history for loss\n",
    "plt.plot(CroGer.history['loss'])\n",
    "plt.plot(CroGer.history['val_loss'])\n",
    "plt.title('model loss')\n",
    "plt.ylabel('loss')\n",
    "plt.xlabel('epoch')\n",
    "plt.legend(['train', 'test'], loc='upper left')\n",
    "plt.show()"
   ]
  },
  {
   "cell_type": "code",
   "execution_count": 29,
   "id": "91c1ae87",
   "metadata": {},
   "outputs": [
    {
     "name": "stdout",
     "output_type": "stream",
     "text": [
      "Epoch 1/15\n"
     ]
    },
    {
     "name": "stderr",
     "output_type": "stream",
     "text": [
      "/tmp/ipykernel_1638184/1797968907.py:3: UserWarning: `Model.fit_generator` is deprecated and will be removed in a future version. Please use `Model.fit`, which supports generators.\n",
      "  CroFra = model.fit_generator(\n"
     ]
    },
    {
     "name": "stdout",
     "output_type": "stream",
     "text": [
      "152/152 [==============================] - 4s 20ms/step - loss: 0.4950 - accuracy: 0.8604 - val_loss: 3.2504 - val_accuracy: 0.0583\n",
      "Epoch 2/15\n",
      "152/152 [==============================] - 3s 18ms/step - loss: 0.0882 - accuracy: 0.9782 - val_loss: 2.5424 - val_accuracy: 0.1667\n",
      "Epoch 3/15\n",
      "152/152 [==============================] - 3s 19ms/step - loss: 0.0346 - accuracy: 0.9901 - val_loss: 1.2626 - val_accuracy: 0.4833\n",
      "Epoch 4/15\n",
      "152/152 [==============================] - 3s 19ms/step - loss: 0.0316 - accuracy: 0.9894 - val_loss: 1.1222 - val_accuracy: 0.7000\n",
      "Epoch 5/15\n",
      "152/152 [==============================] - 3s 19ms/step - loss: 0.0963 - accuracy: 0.9769 - val_loss: 1.1054 - val_accuracy: 0.6250\n",
      "Epoch 6/15\n",
      "152/152 [==============================] - 3s 18ms/step - loss: 0.0306 - accuracy: 0.9901 - val_loss: 1.5931 - val_accuracy: 0.7583\n",
      "Epoch 7/15\n",
      "152/152 [==============================] - 3s 18ms/step - loss: 0.0261 - accuracy: 0.9954 - val_loss: 1.7054 - val_accuracy: 0.6083\n",
      "Epoch 8/15\n",
      "152/152 [==============================] - 3s 19ms/step - loss: 0.0723 - accuracy: 0.9782 - val_loss: 2.2782 - val_accuracy: 0.5917\n",
      "Epoch 9/15\n",
      "152/152 [==============================] - 3s 18ms/step - loss: 0.0437 - accuracy: 0.9868 - val_loss: 1.0969 - val_accuracy: 0.7667\n",
      "Epoch 10/15\n",
      "152/152 [==============================] - 3s 19ms/step - loss: 0.0248 - accuracy: 0.9927 - val_loss: 1.3237 - val_accuracy: 0.7750\n",
      "Epoch 11/15\n",
      "152/152 [==============================] - 3s 19ms/step - loss: 0.0244 - accuracy: 0.9960 - val_loss: 0.8989 - val_accuracy: 0.8167\n",
      "Epoch 12/15\n",
      "152/152 [==============================] - 3s 18ms/step - loss: 3.4539e-04 - accuracy: 1.0000 - val_loss: 0.7995 - val_accuracy: 0.8500\n",
      "Epoch 13/15\n",
      "152/152 [==============================] - 3s 19ms/step - loss: 1.1422e-04 - accuracy: 1.0000 - val_loss: 0.8260 - val_accuracy: 0.8417\n",
      "Epoch 14/15\n",
      "152/152 [==============================] - 3s 18ms/step - loss: 6.8356e-05 - accuracy: 1.0000 - val_loss: 0.8092 - val_accuracy: 0.8500\n",
      "Epoch 15/15\n",
      "152/152 [==============================] - 3s 18ms/step - loss: 4.6268e-05 - accuracy: 1.0000 - val_loss: 0.8112 - val_accuracy: 0.8500\n"
     ]
    }
   ],
   "source": [
    "#Cro + Fra\n",
    "import matplotlib.pyplot as plt\n",
    "CroFra = model.fit_generator(\n",
    "    train_generator,#our training generator\n",
    "    #number of iteration per epoch = number of data / batch size\n",
    "    #steps_per_epoch=np.floor(train_generator.n/batch_size),\n",
    "    epochs=15,#number of epoch\n",
    "    validation_data=testing_generator,#our validation generator\n",
    "    #number of iteration per epoch = number of data / batch size\n",
    "    validation_steps=np.floor(testing_generator.n / batch_size)\n",
    "    )"
   ]
  },
  {
   "cell_type": "code",
   "execution_count": 30,
   "id": "6de59b5d",
   "metadata": {},
   "outputs": [
    {
     "name": "stdout",
     "output_type": "stream",
     "text": [
      "val:  0.8500000238418579\n",
      "13/13 [==============================] - 0s 8ms/step - loss: 0.7982 - accuracy: 0.8525\n",
      "Test Loss: 0.7981882691383362\n",
      "Test Accuracy: 0.8524590134620667\n"
     ]
    }
   ],
   "source": [
    "best_val_accuracy_Fra = max(CroFra.history['val_accuracy'])\n",
    "print('val: ', best_val_accuracy_Fra)\n",
    "\n",
    "\n",
    "test_loss_fra, test_accuracy_fra = model.evaluate(testing_generator, steps=np.ceil(testing_generator.n / batch_size))\n",
    "\n",
    "print(\"Test Loss:\", test_loss_fra)\n",
    "print(\"Test Accuracy:\", test_accuracy_fra)"
   ]
  },
  {
   "cell_type": "code",
   "execution_count": 31,
   "id": "a1f16f03",
   "metadata": {},
   "outputs": [
    {
     "name": "stdout",
     "output_type": "stream",
     "text": [
      "dict_keys(['loss', 'accuracy', 'val_loss', 'val_accuracy'])\n"
     ]
    },
    {
     "data": {
      "image/png": "[encoded data removed]",
      "text/plain": [
       "<Figure size 432x288 with 1 Axes>"
      ]
     },
     "metadata": {
      "needs_background": "light"
     },
     "output_type": "display_data"
    },
    {
     "data": {
      "image/png": "[encoded data removed]",
      "text/plain": [
       "<Figure size 432x288 with 1 Axes>"
      ]
     },
     "metadata": {
      "needs_background": "light"
     },
     "output_type": "display_data"
    }
   ],
   "source": [
    "#Cro + Fra\n",
    "# list all data in history\n",
    "print(CroFra.history.keys())\n",
    "# summarize history for accuracy\n",
    "plt.plot(CroFra.history['accuracy'])\n",
    "plt.plot(CroFra.history['val_accuracy'])\n",
    "plt.title('model accuracy')\n",
    "plt.ylabel('accuracy')\n",
    "plt.xlabel('epoch')\n",
    "plt.legend(['train', 'test'], loc='upper left')\n",
    "plt.show()\n",
    "# summarize history for loss\n",
    "plt.plot(CroFra.history['loss'])\n",
    "plt.plot(CroFra.history['val_loss'])\n",
    "plt.title('model loss')\n",
    "plt.ylabel('loss')\n",
    "plt.xlabel('epoch')\n",
    "plt.legend(['train', 'test'], loc='upper left')\n",
    "plt.show()"
   ]
  },
  {
   "cell_type": "code",
   "execution_count": 34,
   "id": "e4ccfc2b",
   "metadata": {},
   "outputs": [
    {
     "name": "stdout",
     "output_type": "stream",
     "text": [
      "Epoch 1/10\n"
     ]
    },
    {
     "name": "stderr",
     "output_type": "stream",
     "text": [
      "/tmp/ipykernel_1638184/3545775122.py:3: UserWarning: `Model.fit_generator` is deprecated and will be removed in a future version. Please use `Model.fit`, which supports generators.\n",
      "  CroBel = model.fit_generator(\n"
     ]
    },
    {
     "name": "stdout",
     "output_type": "stream",
     "text": [
      "152/152 [==============================] - 4s 22ms/step - loss: 0.5736 - accuracy: 0.8393 - val_loss: 1.5299 - val_accuracy: 0.4234\n",
      "Epoch 2/10\n",
      "152/152 [==============================] - 3s 20ms/step - loss: 0.0907 - accuracy: 0.9663 - val_loss: 1.9099 - val_accuracy: 0.5957\n",
      "Epoch 3/10\n",
      "152/152 [==============================] - 3s 20ms/step - loss: 0.0439 - accuracy: 0.9854 - val_loss: 0.1968 - val_accuracy: 0.9191\n",
      "Epoch 4/10\n",
      "152/152 [==============================] - 3s 20ms/step - loss: 0.0225 - accuracy: 0.9947 - val_loss: 0.3503 - val_accuracy: 0.9234\n",
      "Epoch 5/10\n",
      "152/152 [==============================] - 3s 20ms/step - loss: 0.0438 - accuracy: 0.9888 - val_loss: 0.3721 - val_accuracy: 0.8979\n",
      "Epoch 6/10\n",
      "152/152 [==============================] - 3s 19ms/step - loss: 0.0678 - accuracy: 0.9808 - val_loss: 0.8337 - val_accuracy: 0.9043\n",
      "Epoch 7/10\n",
      "152/152 [==============================] - 3s 20ms/step - loss: 0.1596 - accuracy: 0.9583 - val_loss: 2.9187 - val_accuracy: 0.7000\n",
      "Epoch 8/10\n",
      "152/152 [==============================] - 3s 20ms/step - loss: 0.0905 - accuracy: 0.9802 - val_loss: 0.6100 - val_accuracy: 0.9064\n",
      "Epoch 9/10\n",
      "152/152 [==============================] - 3s 21ms/step - loss: 0.0115 - accuracy: 0.9954 - val_loss: 0.4672 - val_accuracy: 0.9149\n",
      "Epoch 10/10\n",
      "152/152 [==============================] - 3s 20ms/step - loss: 0.0022 - accuracy: 0.9987 - val_loss: 0.3123 - val_accuracy: 0.9426\n"
     ]
    }
   ],
   "source": [
    "#Cro + Bel\n",
    "import matplotlib.pyplot as plt\n",
    "CroBel = model.fit_generator(\n",
    "    train_generator,#our training generator\n",
    "    #number of iteration per epoch = number of data / batch size\n",
    "    #steps_per_epoch=np.floor(train_generator.n/batch_size),\n",
    "    epochs=10,#number of epoch\n",
    "    validation_data=testing_generator,#our validation generator\n",
    "    #number of iteration per epoch = number of data / batch size\n",
    "    validation_steps=np.floor(testing_generator.n / batch_size)\n",
    "    )"
   ]
  },
  {
   "cell_type": "code",
   "execution_count": 35,
   "id": "fe103f40",
   "metadata": {},
   "outputs": [
    {
     "name": "stdout",
     "output_type": "stream",
     "text": [
      "val:  0.9425531625747681\n",
      "48/48 [==============================] - 0s 5ms/step - loss: 0.3102 - accuracy: 0.9430\n",
      "Test Loss: 0.31024929881095886\n",
      "Test Accuracy: 0.9430379867553711\n"
     ]
    }
   ],
   "source": [
    "best_val_accuracy_Bel = max(CroBel.history['val_accuracy'])\n",
    "print('val: ', best_val_accuracy_Bel)\n",
    "\n",
    "\n",
    "test_loss_bel, test_accuracy_bel = model.evaluate(testing_generator, steps=np.ceil(testing_generator.n / batch_size))\n",
    "\n",
    "print(\"Test Loss:\", test_loss_bel)\n",
    "print(\"Test Accuracy:\", test_accuracy_bel)"
   ]
  },
  {
   "cell_type": "code",
   "execution_count": 36,
   "id": "d212770e",
   "metadata": {},
   "outputs": [
    {
     "name": "stdout",
     "output_type": "stream",
     "text": [
      "dict_keys(['loss', 'accuracy', 'val_loss', 'val_accuracy'])\n"
     ]
    },
    {
     "data": {
      "image/png": "[encoded data removed]",
      "text/plain": [
       "<Figure size 432x288 with 1 Axes>"
      ]
     },
     "metadata": {
      "needs_background": "light"
     },
     "output_type": "display_data"
    },
    {
     "data": {
      "image/png": "[encoded data removed]",
      "text/plain": [
       "<Figure size 432x288 with 1 Axes>"
      ]
     },
     "metadata": {
      "needs_background": "light"
     },
     "output_type": "display_data"
    }
   ],
   "source": [
    "#Cro + Bel\n",
    "# list all data in history\n",
    "print(CroBel.history.keys())\n",
    "# summarize history for accuracy\n",
    "plt.plot(CroBel.history['accuracy'])\n",
    "plt.plot(CroBel.history['val_accuracy'])\n",
    "plt.title('model accuracy')\n",
    "plt.ylabel('accuracy')\n",
    "plt.xlabel('epoch')\n",
    "plt.legend(['train', 'test'], loc='upper left')\n",
    "plt.show()\n",
    "# summarize history for loss\n",
    "plt.plot(CroBel.history['loss'])\n",
    "plt.plot(CroBel.history['val_loss'])\n",
    "plt.title('model loss')\n",
    "plt.ylabel('loss')\n",
    "plt.xlabel('epoch')\n",
    "plt.legend(['train', 'test'], loc='upper left')\n",
    "plt.show()"
   ]
  },
  {
   "cell_type": "code",
   "execution_count": 41,
   "id": "b7736bc4",
   "metadata": {},
   "outputs": [
    {
     "name": "stdout",
     "output_type": "stream",
     "text": [
      "Epoch 1/10\n",
      "  4/152 [..............................] - ETA: 2s - loss: 1.9291e-04 - accuracy: 1.0000"
     ]
    },
    {
     "name": "stderr",
     "output_type": "stream",
     "text": [
      "/tmp/ipykernel_1638184/3250470688.py:3: UserWarning: `Model.fit_generator` is deprecated and will be removed in a future version. Please use `Model.fit`, which supports generators.\n",
      "  CroSwe = model.fit_generator(\n"
     ]
    },
    {
     "name": "stdout",
     "output_type": "stream",
     "text": [
      "152/152 [==============================] - 3s 19ms/step - loss: 0.0303 - accuracy: 0.9947 - val_loss: 3.1263 - val_accuracy: 0.5306\n",
      "Epoch 2/10\n",
      "152/152 [==============================] - 3s 19ms/step - loss: 0.0563 - accuracy: 0.9888 - val_loss: 1.4993 - val_accuracy: 0.6939\n",
      "Epoch 3/10\n",
      "152/152 [==============================] - 3s 20ms/step - loss: 0.0454 - accuracy: 0.9894 - val_loss: 0.6674 - val_accuracy: 0.8714\n",
      "Epoch 4/10\n",
      "152/152 [==============================] - 3s 21ms/step - loss: 0.0226 - accuracy: 0.9940 - val_loss: 2.0719 - val_accuracy: 0.6633\n",
      "Epoch 5/10\n",
      "152/152 [==============================] - 3s 20ms/step - loss: 0.0201 - accuracy: 0.9934 - val_loss: 1.3469 - val_accuracy: 0.7837\n",
      "Epoch 6/10\n",
      "152/152 [==============================] - 3s 18ms/step - loss: 0.0047 - accuracy: 0.9993 - val_loss: 1.7184 - val_accuracy: 0.7245\n",
      "Epoch 7/10\n",
      "152/152 [==============================] - 3s 20ms/step - loss: 0.0038 - accuracy: 0.9987 - val_loss: 0.7924 - val_accuracy: 0.8449\n",
      "Epoch 8/10\n",
      "152/152 [==============================] - 3s 19ms/step - loss: 0.0022 - accuracy: 0.9993 - val_loss: 1.0329 - val_accuracy: 0.8143\n",
      "Epoch 9/10\n",
      "152/152 [==============================] - 3s 21ms/step - loss: 7.9679e-05 - accuracy: 1.0000 - val_loss: 0.9260 - val_accuracy: 0.8367\n",
      "Epoch 10/10\n",
      "152/152 [==============================] - 3s 20ms/step - loss: 0.0024 - accuracy: 0.9987 - val_loss: 0.9888 - val_accuracy: 0.8224\n"
     ]
    }
   ],
   "source": [
    "#Cro + Swe\n",
    "import matplotlib.pyplot as plt\n",
    "CroSwe = model.fit_generator(\n",
    "    train_generator,#our training generator\n",
    "    #number of iteration per epoch = number of data / batch size\n",
    "    #steps_per_epoch=np.floor(train_generator.n/batch_size),\n",
    "    epochs=10,#number of epoch\n",
    "    validation_data=testing_generator,#our validation generator\n",
    "    #number of iteration per epoch = number of data / batch size\n",
    "    validation_steps=np.floor(testing_generator.n / batch_size)\n",
    "    )"
   ]
  },
  {
   "cell_type": "code",
   "execution_count": 42,
   "id": "2bdeae80",
   "metadata": {},
   "outputs": [
    {
     "name": "stdout",
     "output_type": "stream",
     "text": [
      "val:  0.8714285492897034\n",
      "50/50 [==============================] - 0s 6ms/step - loss: 0.9835 - accuracy: 0.8233\n",
      "Test Loss: 0.9834782481193542\n",
      "Test Accuracy: 0.823293149471283\n"
     ]
    }
   ],
   "source": [
    "best_val_accuracy_Swe = max(CroSwe.history['val_accuracy'])\n",
    "print('val: ', best_val_accuracy_Swe)\n",
    "\n",
    "\n",
    "test_loss_swe, test_accuracy_swe = model.evaluate(testing_generator, steps=np.ceil(testing_generator.n / batch_size))\n",
    "\n",
    "print(\"Test Loss:\", test_loss_swe)\n",
    "print(\"Test Accuracy:\", test_accuracy_swe)"
   ]
  },
  {
   "cell_type": "code",
   "execution_count": 43,
   "id": "b593fe6c",
   "metadata": {},
   "outputs": [
    {
     "name": "stdout",
     "output_type": "stream",
     "text": [
      "dict_keys(['loss', 'accuracy', 'val_loss', 'val_accuracy'])\n"
     ]
    },
    {
     "data": {
      "image/png": "[encoded data removed]",
      "text/plain": [
       "<Figure size 432x288 with 1 Axes>"
      ]
     },
     "metadata": {
      "needs_background": "light"
     },
     "output_type": "display_data"
    },
    {
     "data": {
      "image/png": "[encoded data removed]",
      "text/plain": [
       "<Figure size 432x288 with 1 Axes>"
      ]
     },
     "metadata": {
      "needs_background": "light"
     },
     "output_type": "display_data"
    }
   ],
   "source": [
    "#Cro + Bel\n",
    "# list all data in history\n",
    "print(CroSwe.history.keys())\n",
    "# summarize history for accuracy\n",
    "plt.plot(CroSwe.history['accuracy'])\n",
    "plt.plot(CroSwe.history['val_accuracy'])\n",
    "plt.title('model accuracy')\n",
    "plt.ylabel('accuracy')\n",
    "plt.xlabel('epoch')\n",
    "plt.legend(['train', 'test'], loc='upper left')\n",
    "plt.show()\n",
    "# summarize history for loss\n",
    "plt.plot(CroSwe.history['loss'])\n",
    "plt.plot(CroSwe.history['val_loss'])\n",
    "plt.title('model loss')\n",
    "plt.ylabel('loss')\n",
    "plt.xlabel('epoch')\n",
    "plt.legend(['train', 'test'], loc='upper left')\n",
    "plt.show()"
   ]
  },
  {
   "cell_type": "code",
   "execution_count": 44,
   "id": "9b082306",
   "metadata": {},
   "outputs": [
    {
     "name": "stdout",
     "output_type": "stream",
     "text": [
      "    Model  Best Val_Accuracy  Best Test Accuracy\n",
      "0  CroCro           0.996825            0.996845\n",
      "1  GerGer           0.886644            0.886612\n",
      "2  GerBel           0.942553            0.943038\n",
      "3  GerSwe           0.871429            0.823293\n",
      "4  GerFra           0.850000            0.852459\n"
     ]
    }
   ],
   "source": [
    "\n",
    "import pandas as pd\n",
    "\n",
    "best_results = []\n",
    "\n",
    "\n",
    "best_results.append({'Model': 'CroCro', 'Best Val_Accuracy': best_val_accuracy_Cro, 'Best Test Accuracy':test_accuracy_cro})\n",
    "best_results.append({'Model': 'GerGer', 'Best Val_Accuracy': best_val_accuracy_Ger, 'Best Test Accuracy':test_accuracy_ger})\n",
    "best_results.append({'Model': 'GerBel', 'Best Val_Accuracy': best_val_accuracy_Bel, 'Best Test Accuracy':test_accuracy_bel})\n",
    "best_results.append({'Model': 'GerSwe', 'Best Val_Accuracy': best_val_accuracy_Swe, 'Best Test Accuracy':test_accuracy_swe})\n",
    "best_results.append({'Model': 'GerFra', 'Best Val_Accuracy': best_val_accuracy_Fra, 'Best Test Accuracy':test_accuracy_fra})\n",
    "df = pd.DataFrame(best_results)\n",
    "print(df)   "
   ]
  },
  {
   "cell_type": "code",
   "execution_count": null,
   "id": "bf43862c",
   "metadata": {},
   "outputs": [],
   "source": []
  }
 ],
 "metadata": {
  "kernelspec": {
   "display_name": "Python [conda env:kmazar_env]",
   "language": "python",
   "name": "conda-env-kmazar_env-py"
  },
  "language_info": {
   "codemirror_mode": {
    "name": "ipython",
    "version": 3
   },
   "file_extension": ".py",
   "mimetype": "text/x-python",
   "name": "python",
   "nbconvert_exporter": "python",
   "pygments_lexer": "ipython3",
   "version": "3.8.13"
  }
 },
 "nbformat": 4,
 "nbformat_minor": 5
}
